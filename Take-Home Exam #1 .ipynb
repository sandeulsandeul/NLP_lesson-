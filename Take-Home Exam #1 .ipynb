{
 "cells": [
  {
   "cell_type": "markdown",
   "metadata": {},
   "source": [
    "# 1(a)\n",
    "주어진 문자열을 거꾸로(reverse) 반환하는 함수 revString()을 정의하라. (imperative\n",
    "style: 지역변수 사용해도 됨)"
   ]
  },
  {
   "cell_type": "code",
   "execution_count": 1,
   "metadata": {},
   "outputs": [
    {
     "name": "stdout",
     "output_type": "stream",
     "text": [
      "*** Introductory Examples for the NLTK Book ***\n",
      "Loading text1, ..., text9 and sent1, ..., sent9\n",
      "Type the name of the text or sentence to view it.\n",
      "Type: 'texts()' or 'sents()' to list the materials.\n",
      "text1: Moby Dick by Herman Melville 1851\n",
      "text2: Sense and Sensibility by Jane Austen 1811\n",
      "text3: The Book of Genesis\n",
      "text4: Inaugural Address Corpus\n",
      "text5: Chat Corpus\n",
      "text6: Monty Python and the Holy Grail\n",
      "text7: Wall Street Journal\n",
      "text8: Personals Corpus\n",
      "text9: The Man Who Was Thursday by G . K . Chesterton 1908\n",
      "Citizens\n"
     ]
    },
    {
     "data": {
      "text/plain": [
       "'snezitiC'"
      ]
     },
     "execution_count": 1,
     "metadata": {},
     "output_type": "execute_result"
    }
   ],
   "source": [
    "import nltk\n",
    "from nltk.book import *\n",
    "print(sent4[2])\n",
    "\n",
    "def revString(x):\n",
    "    result=''\n",
    "    for i in range(len(x)):\n",
    "        result += x[len(x)-1-i]\n",
    "    return result\n",
    "\n",
    "revString(sent4[2])"
   ]
  },
  {
   "cell_type": "markdown",
   "metadata": {},
   "source": [
    "# 1(b)\n",
    "\n",
    "주어진 문자열을 거꾸로(reverse) 반환하는 함수 revString2()을 정의하되 재귀용법\n",
    "(recursion)을 사용하여 정의하라 (functional style: 지역변수 사용하지 말 것)\n",
    "   "
   ]
  },
  {
   "cell_type": "code",
   "execution_count": 3,
   "metadata": {},
   "outputs": [
    {
     "data": {
      "text/plain": [
       "'snezitiC'"
      ]
     },
     "execution_count": 3,
     "metadata": {},
     "output_type": "execute_result"
    }
   ],
   "source": [
    "def revString2(x):\n",
    "    if(not x):\n",
    "        return ''\n",
    "    else:\n",
    "        return revString2(x[1:])+x[0]\n",
    "\n",
    "revString2(sent4[2])"
   ]
  },
  {
   "cell_type": "markdown",
   "metadata": {},
   "source": [
    "# 2\n",
    "사용자로부터 영어 문장을 입력 받아, 다음과 같이 각 단어의 길이 정보와 함께 출력해주\n",
    "는 함수를 정의하라. (각 단어 사이는 공백문자로 분리된다고 가정한다"
   ]
  },
  {
   "cell_type": "code",
   "execution_count": 5,
   "metadata": {},
   "outputs": [
    {
     "name": "stdout",
     "output_type": "stream",
     "text": [
      "Enter some text:time flies like an arrow\n"
     ]
    },
    {
     "data": {
      "text/plain": [
       "[('time', 4), ('flies', 5), ('like', 4), ('an', 2), ('arrow', 5)]"
      ]
     },
     "execution_count": 5,
     "metadata": {},
     "output_type": "execute_result"
    }
   ],
   "source": [
    "def wordlength():\n",
    "    result = []\n",
    "    input1 = input('Enter some text:')\n",
    "    temp = input1.split(' ')\n",
    "    for i in temp:\n",
    "        result.append((i,len(i)))\n",
    "    return result\n",
    "wordlength()"
   ]
  },
  {
   "cell_type": "markdown",
   "metadata": {},
   "source": [
    "# 3 \n",
    "아래와 같이 숫자 리스트를 입력 받아 제곱의 리스트를 반환하는 함수 square_numbers()\n",
    "를 정의하라.\n"
   ]
  },
  {
   "cell_type": "code",
   "execution_count": 6,
   "metadata": {},
   "outputs": [
    {
     "name": "stdout",
     "output_type": "stream",
     "text": [
      "[1, 4, 9, 16, 25]\n"
     ]
    }
   ],
   "source": [
    "def square_numbers(x):\n",
    "    result = []\n",
    "    for i in x:\n",
    "        result.append(i*i)\n",
    "    return result\n",
    "x = square_numbers([1,2,3,4,5])\n",
    "print(x)"
   ]
  },
  {
   "cell_type": "markdown",
   "metadata": {},
   "source": [
    "# 4\n",
    "주어진 텍스트의 첫 n개의 단어 중, 단어의 길이가 10 이상인 단어의 개수의 합을 출력하\n",
    "는 함수 word10()을 정의하라. 예를 들어, text1의 첫 1000 단어 중 단어의 길이가 10 이상\n",
    "인 단어는 다음과 같으며, 출력 결과는 아래와 같이 24로 나와야 한다. "
   ]
  },
  {
   "cell_type": "code",
   "execution_count": 10,
   "metadata": {},
   "outputs": [
    {
     "data": {
      "text/plain": [
       "24"
      ]
     },
     "execution_count": 10,
     "metadata": {},
     "output_type": "execute_result"
    }
   ],
   "source": [
    "def word10(x,y):\n",
    "    smalltext = x[:y]\n",
    "    count = 0\n",
    "    for word in smalltext:\n",
    "        if(len(word) >= 10):\n",
    "            count += 1\n",
    "    return count\n",
    "word10(text1,1000)"
   ]
  },
  {
   "cell_type": "markdown",
   "metadata": {},
   "source": [
    "# 5\n",
    "브라운 코퍼스에서 쟝르 별로 임의의 단어 (예: ＇ love＇, ＇president＇, ＇funny＇, ＇\n",
    "crime＇, ＇god＇) 의 분포를 아래 테이블 형식으로 출력하라.\n"
   ]
  },
  {
   "cell_type": "code",
   "execution_count": 11,
   "metadata": {
    "scrolled": true
   },
   "outputs": [
    {
     "name": "stdout",
     "output_type": "stream",
     "text": [
      "                     love president     funny     crime       god \n",
      "      adventure         9         0         2         2         0 \n",
      " belles_lettres        68         7         1         5         3 \n",
      "      editorial        13         7         1         1         0 \n",
      "        fiction        16         1         5         2         0 \n",
      "     government         1        27         0         0         0 \n",
      "        hobbies         6         5         0         0         0 \n",
      "          humor         4         1        17         1         1 \n",
      "        learned        13        11         0         4         0 \n",
      "           lore        19         2         0         3         3 \n",
      "        mystery         7         0         0         8         0 \n",
      "           news         3        53         0         3         0 \n",
      "       religion        13         1         0         0         5 \n",
      "        reviews         7         1         6         1         0 \n",
      "        romance        32         9         7         1         5 \n",
      "science_fiction         3         0         0         1         0 \n"
     ]
    }
   ],
   "source": [
    "import nltk\n",
    "from nltk.corpus import *\n",
    "words = ['love','president','funny','crime','god']\n",
    "cfd = nltk.ConditionalFreqDist(\n",
    "    (genre,word)\n",
    "    for genre in brown.categories()\n",
    "    for word in brown.words(categories =  genre)\n",
    ")\n",
    "\n",
    "cfd.tabulate(condition = brown.categories(),samples = words)"
   ]
  },
  {
   "cell_type": "markdown",
   "metadata": {},
   "source": [
    "# 6 \n",
    "\n",
    "브라운코퍼스에서, 연달아 나타나는 2개의 단어에 대해서, 각 카테고리 별로 몇번 나타나\n",
    "는지를 출력해 주는 프로그램을 작성하라. 예를 들어, 아래 결과에 의하면, news 카테고리에\n",
    "서 ‘of the’가 나타난 빈도수는 844번이다"
   ]
  },
  {
   "cell_type": "code",
   "execution_count": 18,
   "metadata": {},
   "outputs": [
    {
     "name": "stdout",
     "output_type": "stream",
     "text": [
      " ( category adventure:368) ( category belles_lettres:1602) ( category editorial:560) ( category fiction:364) ( category government:843) ( category hobbies:616) ( category humor:115) ( category learned:2049) ( category lore:1009) ( category mystery:223) ( category news:844) ( category religion:387) ( category reviews:330) ( category romance:233) ( category science_fiction:82)\n"
     ]
    }
   ],
   "source": [
    "def fdist2words(x,y):\n",
    "    result = ''\n",
    "    for i in brown.categories():\n",
    "        count = nltk.FreqDist(nltk.bigrams(brown.words(categories = i)))\n",
    "        result += (' ( category '+ i + ':' + str(count[(x,y)])+')')\n",
    "    print(result)\n",
    "    \n",
    "fdist2words('of','the') "
   ]
  },
  {
   "cell_type": "code",
   "execution_count": null,
   "metadata": {},
   "outputs": [],
   "source": []
  }
 ],
 "metadata": {
  "kernelspec": {
   "display_name": "Python 3",
   "language": "python",
   "name": "python3"
  },
  "language_info": {
   "codemirror_mode": {
    "name": "ipython",
    "version": 3
   },
   "file_extension": ".py",
   "mimetype": "text/x-python",
   "name": "python",
   "nbconvert_exporter": "python",
   "pygments_lexer": "ipython3",
   "version": "3.7.6"
  }
 },
 "nbformat": 4,
 "nbformat_minor": 4
}
