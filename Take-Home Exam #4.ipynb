{
 "cells": [
  {
   "cell_type": "markdown",
   "metadata": {},
   "source": [
    "# 주어진 임의의 문장 POS 태깅하는 프로그램 작성하기"
   ]
  },
  {
   "cell_type": "code",
   "execution_count": 1,
   "metadata": {},
   "outputs": [],
   "source": [
    "import nltk\n",
    "from nltk.corpus import *\n",
    "from pickle import dump\n",
    "from pickle import load"
   ]
  },
  {
   "cell_type": "code",
   "execution_count": 10,
   "metadata": {},
   "outputs": [],
   "source": [
    "brown_tagged_sents = brown.tagged_sents(tagset='universal')\n",
    "size = int(len(brown_tagged_sents) * 0.9)\n",
    "train_sents = brown_tagged_sents\n",
    "test_sents = brown_tagged_sents[size:]"
   ]
  },
  {
   "cell_type": "code",
   "execution_count": 11,
   "metadata": {},
   "outputs": [],
   "source": [
    "def backoff_tager(train_sents):\n",
    "    backoff = nltk.DefaultTagger('NN')\n",
    "    tagger1 = nltk.UnigramTagger(train_sents,backoff = backoff)\n",
    "    tagger2 = nltk.BigramTagger(train_sents,backoff = tagger1)\n",
    "    tagger3 = nltk.TrigramTagger(train_sents,backoff =  tagger2)\n",
    "    return tagger3"
   ]
  },
  {
   "cell_type": "code",
   "execution_count": 12,
   "metadata": {},
   "outputs": [],
   "source": [
    "tagger = backoff_tager(train_sents)"
   ]
  },
  {
   "cell_type": "code",
   "execution_count": 13,
   "metadata": {},
   "outputs": [],
   "source": [
    "# 저장\n",
    "output_ = open('tagger.pkl', 'wb')\n",
    "dump(tagger, output_, -1)\n",
    "output_.close()"
   ]
  },
  {
   "cell_type": "code",
   "execution_count": 14,
   "metadata": {},
   "outputs": [],
   "source": [
    "# 불러오기 \n",
    "input_ = open('tagger.pkl', 'rb')\n",
    "tagger = load(input_)\n",
    "input_.close()"
   ]
  },
  {
   "cell_type": "code",
   "execution_count": 15,
   "metadata": {},
   "outputs": [],
   "source": [
    "def tag_printer(result):\n",
    "    str_ = ''\n",
    "    for (word,tag) in result:\n",
    "        str_+= (' '+tag)\n",
    "    print('POS Tagging Result: '+str_)"
   ]
  },
  {
   "cell_type": "code",
   "execution_count": 16,
   "metadata": {},
   "outputs": [
    {
     "name": "stdout",
     "output_type": "stream",
     "text": [
      "예측력:  96.63984409379518 %\n"
     ]
    }
   ],
   "source": [
    "print('예측력: ', tagger.evaluate(test_sents)*100 ,'%')"
   ]
  },
  {
   "cell_type": "code",
   "execution_count": 17,
   "metadata": {},
   "outputs": [
    {
     "name": "stdout",
     "output_type": "stream",
     "text": [
      "Enter a sentence: time flies like an arrow.\n",
      "POS Tagging Result:  NOUN VERB ADP DET NN\n",
      "Enter a sentence: A barking dog never bites.\n",
      "POS Tagging Result:  DET NOUN NOUN ADV NN\n",
      "Enter a sentence: Do not count your chickens before they hatch.\n",
      "POS Tagging Result:  VERB ADV VERB DET NOUN ADP PRON NN\n",
      "Enter a sentence: A burnt child dreads the fire.\n",
      "POS Tagging Result:  DET VERB NOUN NN DET NN\n",
      "Enter a sentence: Even Homer sometimes nods\n",
      "POS Tagging Result:  ADV NOUN ADV NOUN\n"
     ]
    }
   ],
   "source": [
    "for i in range(5):\n",
    "    tokens = input('Enter a sentence: ').split()\n",
    "    result = tagger.tag(tokens)\n",
    "    tag_printer(result)"
   ]
  },
  {
   "cell_type": "markdown",
   "metadata": {},
   "source": [
    "# 예제문 \n",
    "    time flies like an arrow.\n",
    "    A barking dog never bites.\n",
    "    Do not count your chickens before they hatch.\n",
    "    A burnt child dreads the fire.\n",
    "    Even Homer sometimes nods."
   ]
  }
 ],
 "metadata": {
  "kernelspec": {
   "display_name": "Python 3",
   "language": "python",
   "name": "python3"
  },
  "language_info": {
   "codemirror_mode": {
    "name": "ipython",
    "version": 3
   },
   "file_extension": ".py",
   "mimetype": "text/x-python",
   "name": "python",
   "nbconvert_exporter": "python",
   "pygments_lexer": "ipython3",
   "version": "3.7.6"
  }
 },
 "nbformat": 4,
 "nbformat_minor": 4
}
